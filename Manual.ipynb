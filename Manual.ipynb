{
 "cells": [
  {
   "cell_type": "code",
   "execution_count": 1,
   "id": "9d795a89-00d8-455e-a56a-4b39cbb925a6",
   "metadata": {},
   "outputs": [
    {
     "ename": "NameError",
     "evalue": "name 'conteudo' is not defined",
     "output_type": "error",
     "traceback": [
      "\u001b[1;31m---------------------------------------------------------------------------\u001b[0m",
      "\u001b[1;31mNameError\u001b[0m                                 Traceback (most recent call last)",
      "Cell \u001b[1;32mIn[1], line 37\u001b[0m\n\u001b[0;32m     31\u001b[0m doc\u001b[38;5;241m.\u001b[39madd_paragraph(\n\u001b[0;32m     32\u001b[0m     \u001b[38;5;124m\"\u001b[39m\u001b[38;5;124mDocumentar o processo de recebimento fiscal de mercadorias, garantindo a correta anotação e conferência das informações para armazenamento adequado.\u001b[39m\u001b[38;5;124m\"\u001b[39m\n\u001b[0;32m     33\u001b[0m )\n\u001b[0;32m     35\u001b[0m doc\u001b[38;5;241m.\u001b[39madd_heading(\u001b[38;5;124m\"\u001b[39m\u001b[38;5;124m📋 Etapas do Processo\u001b[39m\u001b[38;5;124m\"\u001b[39m, level\u001b[38;5;241m=\u001b[39m\u001b[38;5;241m1\u001b[39m)\n\u001b[1;32m---> 37\u001b[0m \u001b[38;5;28;01mfor\u001b[39;00m titulo, texto \u001b[38;5;129;01min\u001b[39;00m conteudo:\n\u001b[0;32m     38\u001b[0m     doc\u001b[38;5;241m.\u001b[39madd_heading(titulo\u001b[38;5;241m.\u001b[39mreplace(\u001b[38;5;124m\"\u001b[39m\u001b[38;5;124m—\u001b[39m\u001b[38;5;124m\"\u001b[39m, \u001b[38;5;124m\"\u001b[39m\u001b[38;5;124m-\u001b[39m\u001b[38;5;124m\"\u001b[39m), level\u001b[38;5;241m=\u001b[39m\u001b[38;5;241m2\u001b[39m)\n\u001b[0;32m     39\u001b[0m     doc\u001b[38;5;241m.\u001b[39madd_paragraph(texto\u001b[38;5;241m.\u001b[39mreplace(\u001b[38;5;124m\"\u001b[39m\u001b[38;5;124m—\u001b[39m\u001b[38;5;124m\"\u001b[39m, \u001b[38;5;124m\"\u001b[39m\u001b[38;5;124m-\u001b[39m\u001b[38;5;124m\"\u001b[39m))\n",
      "\u001b[1;31mNameError\u001b[0m: name 'conteudo' is not defined"
     ]
    }
   ],
   "source": [
    "from docx import Document\n",
    "from docx.shared import Pt\n",
    "from docx.enum.text import WD_ALIGN_PARAGRAPH\n",
    "\n",
    "# Cria o documento Word\n",
    "doc = Document()\n",
    "\n",
    "# Capa\n",
    "doc.add_paragraph().alignment = WD_ALIGN_PARAGRAPH.CENTER\n",
    "titulo = doc.add_paragraph(\"MANUAL DO PROCESSO FISCAL\")\n",
    "titulo.alignment = WD_ALIGN_PARAGRAPH.CENTER\n",
    "titulo.runs[0].font.size = Pt(20)\n",
    "\n",
    "subtitulo = doc.add_paragraph(\"Entrada de Mercadorias\")\n",
    "subtitulo.alignment = WD_ALIGN_PARAGRAPH.CENTER\n",
    "subtitulo.runs[0].font.size = Pt(16)\n",
    "\n",
    "doc.add_paragraph().add_run(\"-\" * 50).bold = True\n",
    "\n",
    "info = doc.add_paragraph()\n",
    "info.alignment = WD_ALIGN_PARAGRAPH.CENTER\n",
    "info.add_run(\"Empresa: [Nome da Empresa]\\n\").bold = True\n",
    "info.add_run(\"Elaborado por: [Seu Nome / Setor]\\n\").bold = True\n",
    "info.add_run(\"Data de Emissão: [Data]\\n\").bold = True\n",
    "info.add_run(\"Versão: 1.0\").bold = True\n",
    "\n",
    "doc.add_page_break()\n",
    "\n",
    "# Corpo\n",
    "doc.add_heading(\"🎯 Objetivo\", level=1)\n",
    "doc.add_paragraph(\n",
    "    \"Documentar o processo de recebimento fiscal de mercadorias, garantindo a correta anotação e conferência das informações para armazenamento adequado.\"\n",
    ")\n",
    "\n",
    "doc.add_heading(\"📋 Etapas do Processo\", level=1)\n",
    "\n",
    "for titulo, texto in conteudo:\n",
    "    doc.add_heading(titulo.replace(\"—\", \"-\"), level=2)\n",
    "    doc.add_paragraph(texto.replace(\"—\", \"-\"))\n",
    "    if \"Protocolo\" in titulo:\n",
    "        doc.add_paragraph(\"[INSERIR IMAGEM DO PROTOCOLO AQUI]\")\n",
    "    if \"Ferramenta\" in titulo:\n",
    "        doc.add_paragraph(\"[INSERIR IMAGEM DA FERRAMENTA AQUI]\")\n",
    "\n",
    "doc.add_heading(\"🔎 Observações\", level=1)\n",
    "doc.add_paragraph(\n",
    "    \"- É fundamental que o número da semana anotado seja exatamente o mesmo apresentado na ferramenta, garantindo rastreabilidade.\\n\"\n",
    "    \"- Todos os documentos devem acompanhar a mercadoria até o fim do processo.\"\n",
    ")\n",
    "\n",
    "# Rodapé será configurado manualmente no Word, mas a instrução vai no final.\n",
    "doc.add_page_break()\n",
    "doc.add_paragraph(\"Rodapé sugerido para cada página:\", style=\"Intense Quote\")\n",
    "doc.add_paragraph(\n",
    "    \"Manual do Processo Fiscal – Entrada de Mercadorias | [Nome da Empresa] | Página X de Y\\n\"\n",
    "    \"Documento de uso interno. Proibida a reprodução ou distribuição sem autorização.\"\n",
    ")\n",
    "\n",
    "# Salva o documento\n",
    "caminho_docx = \"/mnt/data/Manual_Processo_Fiscal.docx\"\n",
    "doc.save(caminho_docx)\n",
    "\n",
    "caminho_docx\n"
   ]
  }
 ],
 "metadata": {
  "kernelspec": {
   "display_name": "Python 3 (ipykernel)",
   "language": "python",
   "name": "python3"
  },
  "language_info": {
   "codemirror_mode": {
    "name": "ipython",
    "version": 3
   },
   "file_extension": ".py",
   "mimetype": "text/x-python",
   "name": "python",
   "nbconvert_exporter": "python",
   "pygments_lexer": "ipython3",
   "version": "3.12.7"
  }
 },
 "nbformat": 4,
 "nbformat_minor": 5
}
